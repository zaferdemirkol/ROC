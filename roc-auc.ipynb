from sklearn.metrics import roc_curve, auc
import matplotlib.pyplot as plt
from sklearn.pipeline import make_pipeline

gercekDegerler = [1, 0, 0, 1, 0, 0, 1, 1, 1, 0]
tahminler =      [1, 0, 1, 1, 1, 1, 1, 1, 0, 1]
ypo, dpo, eşik = roc_curve(tahminler, gercekDegerler, pos_label=1)  #ypo: yanlış pozitif oranı dpo: doğru pozitif oranı
roc_auc = auc(ypo, dpo)
fig, ax = plt.subplots(figsize=(7.5, 7.5))
plt.plot(ypo, dpo, label='ROC Eğrisi (AUC = %0.2f)' % (roc_auc))
plt.plot([0, 1], [0, 1], linestyle='--',color='red', label='Rastgele Sınıflandırma')
plt.plot([0, 0, 1], [0, 1, 1], linestyle=':',color='green', label='En İyi Sınıflandırma')
plt.xlim([-0.05, 1.05])
plt.ylim([-0.05, 1.05])
plt.xlabel('Yanlış pozitif oranı')
plt.ylabel('Doğru pozitif oranı')
plt.legend(loc="lower right")
plt.show()
